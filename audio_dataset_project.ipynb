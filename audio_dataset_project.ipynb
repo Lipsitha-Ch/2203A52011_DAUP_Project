{
  "nbformat": 4,
  "nbformat_minor": 0,
  "metadata": {
    "colab": {
      "provenance": []
    },
    "kernelspec": {
      "name": "python3",
      "display_name": "Python 3"
    },
    "language_info": {
      "name": "python"
    }
  },
  "cells": [
    {
      "cell_type": "code",
      "source": [
        "import os\n",
        "import librosa\n",
        "import numpy as np\n",
        "import tensorflow as tf\n",
        "import matplotlib.pyplot as plt\n",
        "from sklearn.preprocessing import LabelEncoder\n",
        "from sklearn.model_selection import train_test_split\n",
        "from sklearn.metrics import classification_report, confusion_matrix, ConfusionMatrixDisplay\n",
        "import kagglehub\n",
        "\n",
        "# Download dataset\n",
        "AUDIO_PATH = kagglehub.dataset_download(\"nilshmeier/road-traffic-audio\")\n",
        "print(\"Path to dataset files:\", AUDIO_PATH)"
      ],
      "metadata": {
        "colab": {
          "base_uri": "https://localhost:8080/"
        },
        "id": "eyHcmYSjRMku",
        "outputId": "a6e3612e-4d48-4b75-ca4e-84bdc4ee6c67"
      },
      "execution_count": null,
      "outputs": [
        {
          "output_type": "stream",
          "name": "stdout",
          "text": [
            "Downloading from https://www.kaggle.com/api/v1/datasets/download/nilshmeier/road-traffic-audio?dataset_version_number=2...\n"
          ]
        },
        {
          "output_type": "stream",
          "name": "stderr",
          "text": [
            "100%|██████████| 309M/309M [00:05<00:00, 61.3MB/s]"
          ]
        },
        {
          "output_type": "stream",
          "name": "stdout",
          "text": [
            "Extracting files...\n"
          ]
        },
        {
          "output_type": "stream",
          "name": "stderr",
          "text": [
            "\n"
          ]
        },
        {
          "output_type": "stream",
          "name": "stdout",
          "text": [
            "Path to dataset files: /root/.cache/kagglehub/datasets/nilshmeier/road-traffic-audio/versions/2\n"
          ]
        }
      ]
    },
    {
      "cell_type": "code",
      "source": [
        "# Constants\n",
        "MAX_LEN = 40\n",
        "SAMPLE_RATE = 22050\n",
        "N_MFCC = 13\n",
        "\n",
        "# Feature extraction function\n",
        "def extract_features(file_path):\n",
        "    try:\n",
        "        y, sr = librosa.load(file_path, sr=SAMPLE_RATE)\n",
        "        mfcc = librosa.feature.mfcc(y=y, sr=sr, n_mfcc=N_MFCC).T\n",
        "        if mfcc.shape[0] < MAX_LEN:\n",
        "            mfcc = np.pad(mfcc, ((0, MAX_LEN - mfcc.shape[0]), (0, 0)), mode='constant')\n",
        "        else:\n",
        "            mfcc = mfcc[:MAX_LEN]\n",
        "        return mfcc\n",
        "    except Exception as e:\n",
        "        print(f\"Error processing {file_path}: {e}\")\n",
        "        return None"
      ],
      "metadata": {
        "id": "LOj8LUBjRlc9"
      },
      "execution_count": null,
      "outputs": []
    },
    {
      "cell_type": "code",
      "source": [
        "# Load data\n",
        "features = []\n",
        "labels = []\n",
        "for root, dirs, files in os.walk(AUDIO_PATH):\n",
        "    for file in files:\n",
        "        if file.endswith(\".wav\"):\n",
        "            file_path = os.path.join(root, file)\n",
        "            label = os.path.basename(root)\n",
        "            mfcc = extract_features(file_path)\n",
        "            features.append(mfcc)\n",
        "            labels.append(label)\n",
        "\n",
        "\n",
        "\n",
        "X = np.array(features)\n",
        "y = np.array(labels)"
      ],
      "metadata": {
        "id": "NQA_uUsaRsDZ"
      },
      "execution_count": null,
      "outputs": []
    },
    {
      "cell_type": "code",
      "source": [
        "# Label encoding\n",
        "le = LabelEncoder()\n",
        "y_encoded = tf.keras.utils.to_categorical(le.fit_transform(y))\n",
        "\n",
        "# Train-test split\n",
        "X_train, X_test, y_train, y_test = train_test_split(X, y_encoded, test_size=0.2, random_state=42)\n",
        "\n",
        "print(f\"Data loaded. Shape: {X.shape}, Classes: {le.classes_}\")\n",
        "\n",
        "# Model\n",
        "model = tf.keras.Sequential([\n",
        "    tf.keras.layers.Input(shape=(MAX_LEN, N_MFCC)),\n",
        "    tf.keras.layers.LSTM(64, return_sequences=True),\n",
        "    tf.keras.layers.LSTM(64),\n",
        "    tf.keras.layers.Dense(64, activation='relu'),\n",
        "    tf.keras.layers.Dense(y_encoded.shape[1], activation='softmax')\n",
        "])\n",
        "\n",
        "model.compile(loss='categorical_crossentropy', optimizer='adam', metrics=['accuracy'])\n",
        "history = model.fit(X_train, y_train, epochs=30, batch_size=16, validation_data=(X_test, y_test))"
      ],
      "metadata": {
        "colab": {
          "base_uri": "https://localhost:8080/"
        },
        "id": "yPpBqa6uR4QB",
        "outputId": "560319f1-2516-4f82-c41e-488bafd21464"
      },
      "execution_count": null,
      "outputs": [
        {
          "output_type": "stream",
          "name": "stdout",
          "text": [
            "Data loaded. Shape: (55, 40, 13), Classes: ['Audio']\n",
            "Epoch 1/30\n"
          ]
        },
        {
          "output_type": "stream",
          "name": "stderr",
          "text": [
            "/usr/local/lib/python3.11/dist-packages/keras/src/ops/nn.py:907: UserWarning: You are using a softmax over axis -1 of a tensor of shape (None, 1). This axis has size 1. The softmax operation will always return the value 1, which is likely not what you intended. Did you mean to use a sigmoid instead?\n",
            "  warnings.warn(\n",
            "/usr/local/lib/python3.11/dist-packages/keras/src/losses/losses.py:33: SyntaxWarning: In loss categorical_crossentropy, expected y_pred.shape to be (batch_size, num_classes) with num_classes > 1. Received: y_pred.shape=(None, 1). Consider using 'binary_crossentropy' if you only have 2 classes.\n",
            "  return self.fn(y_true, y_pred, **self._fn_kwargs)\n"
          ]
        },
        {
          "output_type": "stream",
          "name": "stdout",
          "text": [
            "\u001b[1m3/3\u001b[0m \u001b[32m━━━━━━━━━━━━━━━━━━━━\u001b[0m\u001b[37m\u001b[0m \u001b[1m8s\u001b[0m 345ms/step - accuracy: 1.0000 - loss: 0.0000e+00 - val_accuracy: 1.0000 - val_loss: 0.0000e+00\n",
            "Epoch 2/30\n",
            "\u001b[1m3/3\u001b[0m \u001b[32m━━━━━━━━━━━━━━━━━━━━\u001b[0m\u001b[37m\u001b[0m \u001b[1m0s\u001b[0m 64ms/step - accuracy: 1.0000 - loss: 0.0000e+00 - val_accuracy: 1.0000 - val_loss: 0.0000e+00\n",
            "Epoch 3/30\n",
            "\u001b[1m3/3\u001b[0m \u001b[32m━━━━━━━━━━━━━━━━━━━━\u001b[0m\u001b[37m\u001b[0m \u001b[1m0s\u001b[0m 73ms/step - accuracy: 1.0000 - loss: 0.0000e+00 - val_accuracy: 1.0000 - val_loss: 0.0000e+00\n",
            "Epoch 4/30\n",
            "\u001b[1m3/3\u001b[0m \u001b[32m━━━━━━━━━━━━━━━━━━━━\u001b[0m\u001b[37m\u001b[0m \u001b[1m0s\u001b[0m 65ms/step - accuracy: 1.0000 - loss: 0.0000e+00 - val_accuracy: 1.0000 - val_loss: 0.0000e+00\n",
            "Epoch 5/30\n",
            "\u001b[1m3/3\u001b[0m \u001b[32m━━━━━━━━━━━━━━━━━━━━\u001b[0m\u001b[37m\u001b[0m \u001b[1m0s\u001b[0m 66ms/step - accuracy: 1.0000 - loss: 0.0000e+00 - val_accuracy: 1.0000 - val_loss: 0.0000e+00\n",
            "Epoch 6/30\n",
            "\u001b[1m3/3\u001b[0m \u001b[32m━━━━━━━━━━━━━━━━━━━━\u001b[0m\u001b[37m\u001b[0m \u001b[1m0s\u001b[0m 64ms/step - accuracy: 1.0000 - loss: 0.0000e+00 - val_accuracy: 1.0000 - val_loss: 0.0000e+00\n",
            "Epoch 7/30\n",
            "\u001b[1m3/3\u001b[0m \u001b[32m━━━━━━━━━━━━━━━━━━━━\u001b[0m\u001b[37m\u001b[0m \u001b[1m0s\u001b[0m 67ms/step - accuracy: 1.0000 - loss: 0.0000e+00 - val_accuracy: 1.0000 - val_loss: 0.0000e+00\n",
            "Epoch 8/30\n",
            "\u001b[1m3/3\u001b[0m \u001b[32m━━━━━━━━━━━━━━━━━━━━\u001b[0m\u001b[37m\u001b[0m \u001b[1m0s\u001b[0m 73ms/step - accuracy: 1.0000 - loss: 0.0000e+00 - val_accuracy: 1.0000 - val_loss: 0.0000e+00\n",
            "Epoch 9/30\n",
            "\u001b[1m3/3\u001b[0m \u001b[32m━━━━━━━━━━━━━━━━━━━━\u001b[0m\u001b[37m\u001b[0m \u001b[1m0s\u001b[0m 65ms/step - accuracy: 1.0000 - loss: 0.0000e+00 - val_accuracy: 1.0000 - val_loss: 0.0000e+00\n",
            "Epoch 10/30\n",
            "\u001b[1m3/3\u001b[0m \u001b[32m━━━━━━━━━━━━━━━━━━━━\u001b[0m\u001b[37m\u001b[0m \u001b[1m0s\u001b[0m 84ms/step - accuracy: 1.0000 - loss: 0.0000e+00 - val_accuracy: 1.0000 - val_loss: 0.0000e+00\n",
            "Epoch 11/30\n",
            "\u001b[1m3/3\u001b[0m \u001b[32m━━━━━━━━━━━━━━━━━━━━\u001b[0m\u001b[37m\u001b[0m \u001b[1m0s\u001b[0m 63ms/step - accuracy: 1.0000 - loss: 0.0000e+00 - val_accuracy: 1.0000 - val_loss: 0.0000e+00\n",
            "Epoch 12/30\n",
            "\u001b[1m3/3\u001b[0m \u001b[32m━━━━━━━━━━━━━━━━━━━━\u001b[0m\u001b[37m\u001b[0m \u001b[1m0s\u001b[0m 72ms/step - accuracy: 1.0000 - loss: 0.0000e+00 - val_accuracy: 1.0000 - val_loss: 0.0000e+00\n",
            "Epoch 13/30\n",
            "\u001b[1m3/3\u001b[0m \u001b[32m━━━━━━━━━━━━━━━━━━━━\u001b[0m\u001b[37m\u001b[0m \u001b[1m0s\u001b[0m 64ms/step - accuracy: 1.0000 - loss: 0.0000e+00 - val_accuracy: 1.0000 - val_loss: 0.0000e+00\n",
            "Epoch 14/30\n",
            "\u001b[1m3/3\u001b[0m \u001b[32m━━━━━━━━━━━━━━━━━━━━\u001b[0m\u001b[37m\u001b[0m \u001b[1m0s\u001b[0m 81ms/step - accuracy: 1.0000 - loss: 0.0000e+00 - val_accuracy: 1.0000 - val_loss: 0.0000e+00\n",
            "Epoch 15/30\n",
            "\u001b[1m3/3\u001b[0m \u001b[32m━━━━━━━━━━━━━━━━━━━━\u001b[0m\u001b[37m\u001b[0m \u001b[1m0s\u001b[0m 62ms/step - accuracy: 1.0000 - loss: 0.0000e+00 - val_accuracy: 1.0000 - val_loss: 0.0000e+00\n",
            "Epoch 16/30\n",
            "\u001b[1m3/3\u001b[0m \u001b[32m━━━━━━━━━━━━━━━━━━━━\u001b[0m\u001b[37m\u001b[0m \u001b[1m0s\u001b[0m 63ms/step - accuracy: 1.0000 - loss: 0.0000e+00 - val_accuracy: 1.0000 - val_loss: 0.0000e+00\n",
            "Epoch 17/30\n",
            "\u001b[1m3/3\u001b[0m \u001b[32m━━━━━━━━━━━━━━━━━━━━\u001b[0m\u001b[37m\u001b[0m \u001b[1m0s\u001b[0m 64ms/step - accuracy: 1.0000 - loss: 0.0000e+00 - val_accuracy: 1.0000 - val_loss: 0.0000e+00\n",
            "Epoch 18/30\n",
            "\u001b[1m3/3\u001b[0m \u001b[32m━━━━━━━━━━━━━━━━━━━━\u001b[0m\u001b[37m\u001b[0m \u001b[1m0s\u001b[0m 64ms/step - accuracy: 1.0000 - loss: 0.0000e+00 - val_accuracy: 1.0000 - val_loss: 0.0000e+00\n",
            "Epoch 19/30\n",
            "\u001b[1m3/3\u001b[0m \u001b[32m━━━━━━━━━━━━━━━━━━━━\u001b[0m\u001b[37m\u001b[0m \u001b[1m0s\u001b[0m 64ms/step - accuracy: 1.0000 - loss: 0.0000e+00 - val_accuracy: 1.0000 - val_loss: 0.0000e+00\n",
            "Epoch 20/30\n",
            "\u001b[1m3/3\u001b[0m \u001b[32m━━━━━━━━━━━━━━━━━━━━\u001b[0m\u001b[37m\u001b[0m \u001b[1m0s\u001b[0m 73ms/step - accuracy: 1.0000 - loss: 0.0000e+00 - val_accuracy: 1.0000 - val_loss: 0.0000e+00\n",
            "Epoch 21/30\n",
            "\u001b[1m3/3\u001b[0m \u001b[32m━━━━━━━━━━━━━━━━━━━━\u001b[0m\u001b[37m\u001b[0m \u001b[1m0s\u001b[0m 65ms/step - accuracy: 1.0000 - loss: 0.0000e+00 - val_accuracy: 1.0000 - val_loss: 0.0000e+00\n",
            "Epoch 22/30\n",
            "\u001b[1m3/3\u001b[0m \u001b[32m━━━━━━━━━━━━━━━━━━━━\u001b[0m\u001b[37m\u001b[0m \u001b[1m0s\u001b[0m 71ms/step - accuracy: 1.0000 - loss: 0.0000e+00 - val_accuracy: 1.0000 - val_loss: 0.0000e+00\n",
            "Epoch 23/30\n",
            "\u001b[1m3/3\u001b[0m \u001b[32m━━━━━━━━━━━━━━━━━━━━\u001b[0m\u001b[37m\u001b[0m \u001b[1m0s\u001b[0m 100ms/step - accuracy: 1.0000 - loss: 0.0000e+00 - val_accuracy: 1.0000 - val_loss: 0.0000e+00\n",
            "Epoch 24/30\n",
            "\u001b[1m3/3\u001b[0m \u001b[32m━━━━━━━━━━━━━━━━━━━━\u001b[0m\u001b[37m\u001b[0m \u001b[1m0s\u001b[0m 108ms/step - accuracy: 1.0000 - loss: 0.0000e+00 - val_accuracy: 1.0000 - val_loss: 0.0000e+00\n",
            "Epoch 25/30\n",
            "\u001b[1m3/3\u001b[0m \u001b[32m━━━━━━━━━━━━━━━━━━━━\u001b[0m\u001b[37m\u001b[0m \u001b[1m0s\u001b[0m 105ms/step - accuracy: 1.0000 - loss: 0.0000e+00 - val_accuracy: 1.0000 - val_loss: 0.0000e+00\n",
            "Epoch 26/30\n",
            "\u001b[1m3/3\u001b[0m \u001b[32m━━━━━━━━━━━━━━━━━━━━\u001b[0m\u001b[37m\u001b[0m \u001b[1m0s\u001b[0m 112ms/step - accuracy: 1.0000 - loss: 0.0000e+00 - val_accuracy: 1.0000 - val_loss: 0.0000e+00\n",
            "Epoch 27/30\n",
            "\u001b[1m3/3\u001b[0m \u001b[32m━━━━━━━━━━━━━━━━━━━━\u001b[0m\u001b[37m\u001b[0m \u001b[1m1s\u001b[0m 103ms/step - accuracy: 1.0000 - loss: 0.0000e+00 - val_accuracy: 1.0000 - val_loss: 0.0000e+00\n",
            "Epoch 28/30\n",
            "\u001b[1m3/3\u001b[0m \u001b[32m━━━━━━━━━━━━━━━━━━━━\u001b[0m\u001b[37m\u001b[0m \u001b[1m0s\u001b[0m 98ms/step - accuracy: 1.0000 - loss: 0.0000e+00 - val_accuracy: 1.0000 - val_loss: 0.0000e+00\n",
            "Epoch 29/30\n",
            "\u001b[1m3/3\u001b[0m \u001b[32m━━━━━━━━━━━━━━━━━━━━\u001b[0m\u001b[37m\u001b[0m \u001b[1m0s\u001b[0m 95ms/step - accuracy: 1.0000 - loss: 0.0000e+00 - val_accuracy: 1.0000 - val_loss: 0.0000e+00\n",
            "Epoch 30/30\n",
            "\u001b[1m3/3\u001b[0m \u001b[32m━━━━━━━━━━━━━━━━━━━━\u001b[0m\u001b[37m\u001b[0m \u001b[1m0s\u001b[0m 124ms/step - accuracy: 1.0000 - loss: 0.0000e+00 - val_accuracy: 1.0000 - val_loss: 0.0000e+00\n"
          ]
        }
      ]
    },
    {
      "cell_type": "code",
      "source": [
        "# Accuracy and loss plots\n",
        "plt.figure(figsize=(12, 4))\n",
        "plt.subplot(1, 2, 1)\n",
        "plt.plot(history.history['accuracy'], label='Train Accuracy')\n",
        "plt.plot(history.history['val_accuracy'], label='Val Accuracy')\n",
        "plt.legend()\n",
        "plt.title(\"Accuracy\")\n",
        "plt.subplot(1, 2, 2)\n",
        "plt.plot(history.history['loss'], label='Train Loss')\n",
        "plt.plot(history.history['val_loss'], label='Val Loss')\n",
        "plt.legend()\n",
        "plt.title(\"Loss\")\n",
        "plt.tight_layout()\n",
        "plt.show()"
      ],
      "metadata": {
        "colab": {
          "base_uri": "https://localhost:8080/",
          "height": 237
        },
        "id": "lYIV3EOkSBkD",
        "outputId": "72b3711d-67d4-4702-f987-3f658bac54ac"
      },
      "execution_count": null,
      "outputs": [
        {
          "output_type": "display_data",
          "data": {
            "text/plain": [
              "<Figure size 1200x400 with 2 Axes>"
            ],
            "image/png": "[encoded data removed]"
          },
          "metadata": {}
        }
      ]
    },
    {
      "cell_type": "code",
      "source": [
        "# Classification report\n",
        "y_pred = np.argmax(model.predict(X_test), axis=1)\n",
        "y_true = np.argmax(y_test, axis=1)\n",
        "print(classification_report(y_true, y_pred, target_names=le.classes_))"
      ],
      "metadata": {
        "colab": {
          "base_uri": "https://localhost:8080/"
        },
        "id": "t6_fbBimSKei",
        "outputId": "bd515312-1442-4037-baa4-0b83ef4ef1b3"
      },
      "execution_count": null,
      "outputs": [
        {
          "output_type": "stream",
          "name": "stdout",
          "text": [
            "\u001b[1m1/1\u001b[0m \u001b[32m━━━━━━━━━━━━━━━━━━━━\u001b[0m\u001b[37m\u001b[0m \u001b[1m0s\u001b[0m 331ms/step\n"
          ]
        },
        {
          "output_type": "stream",
          "name": "stderr",
          "text": [
            "/usr/local/lib/python3.11/dist-packages/keras/src/ops/nn.py:907: UserWarning: You are using a softmax over axis -1 of a tensor of shape (11, 1). This axis has size 1. The softmax operation will always return the value 1, which is likely not what you intended. Did you mean to use a sigmoid instead?\n",
            "  warnings.warn(\n"
          ]
        },
        {
          "output_type": "stream",
          "name": "stdout",
          "text": [
            "              precision    recall  f1-score   support\n",
            "\n",
            "       Audio       1.00      1.00      1.00        11\n",
            "\n",
            "    accuracy                           1.00        11\n",
            "   macro avg       1.00      1.00      1.00        11\n",
            "weighted avg       1.00      1.00      1.00        11\n",
            "\n"
          ]
        }
      ]
    },
    {
      "cell_type": "code",
      "source": [
        "# Confusion matrix\n",
        "cm = confusion_matrix(y_true, y_pred)\n",
        "disp = ConfusionMatrixDisplay(confusion_matrix=cm, display_labels=le.classes_)\n",
        "disp.plot(cmap=plt.cm.Blues)\n",
        "plt.show()"
      ],
      "metadata": {
        "colab": {
          "base_uri": "https://localhost:8080/",
          "height": 504
        },
        "id": "W2rY7T5XSUS2",
        "outputId": "48209783-e7b2-471a-fc62-1654f738fa58"
      },
      "execution_count": null,
      "outputs": [
        {
          "output_type": "stream",
          "name": "stderr",
          "text": [
            "/usr/local/lib/python3.11/dist-packages/sklearn/metrics/_classification.py:407: UserWarning: A single label was found in 'y_true' and 'y_pred'. For the confusion matrix to have the correct shape, use the 'labels' parameter to pass all known labels.\n",
            "  warnings.warn(\n"
          ]
        },
        {
          "output_type": "display_data",
          "data": {
            "text/plain": [
              "<Figure size 640x480 with 2 Axes>"
            ],
            "image/png": "[encoded data removed]"
          },
          "metadata": {}
        }
      ]
    },
    {
      "cell_type": "code",
      "source": [
        "!pip install librosa resampy numpy\n",
        "!pip install librosa resampy numpy scikit-learn"
      ],
      "metadata": {
        "colab": {
          "base_uri": "https://localhost:8080/"
        },
        "id": "l7lFAnpESWOd",
        "outputId": "0d4f8111-c255-4e43-8d6c-aa35b33764a2"
      },
      "execution_count": null,
      "outputs": [
        {
          "output_type": "stream",
          "name": "stdout",
          "text": [
            "Requirement already satisfied: librosa in /usr/local/lib/python3.11/dist-packages (0.11.0)\n",
            "Collecting resampy\n",
            "  Downloading resampy-0.4.3-py3-none-any.whl.metadata (3.0 kB)\n",
            "Requirement already satisfied: numpy in /usr/local/lib/python3.11/dist-packages (2.0.2)\n",
            "Requirement already satisfied: audioread>=2.1.9 in /usr/local/lib/python3.11/dist-packages (from librosa) (3.0.1)\n",
            "Requirement already satisfied: numba>=0.51.0 in /usr/local/lib/python3.11/dist-packages (from librosa) (0.60.0)\n",
            "Requirement already satisfied: scipy>=1.6.0 in /usr/local/lib/python3.11/dist-packages (from librosa) (1.14.1)\n",
            "Requirement already satisfied: scikit-learn>=1.1.0 in /usr/local/lib/python3.11/dist-packages (from librosa) (1.6.1)\n",
            "Requirement already satisfied: joblib>=1.0 in /usr/local/lib/python3.11/dist-packages (from librosa) (1.4.2)\n",
            "Requirement already satisfied: decorator>=4.3.0 in /usr/local/lib/python3.11/dist-packages (from librosa) (4.4.2)\n",
            "Requirement already satisfied: soundfile>=0.12.1 in /usr/local/lib/python3.11/dist-packages (from librosa) (0.13.1)\n",
            "Requirement already satisfied: pooch>=1.1 in /usr/local/lib/python3.11/dist-packages (from librosa) (1.8.2)\n",
            "Requirement already satisfied: soxr>=0.3.2 in /usr/local/lib/python3.11/dist-packages (from librosa) (0.5.0.post1)\n",
            "Requirement already satisfied: typing_extensions>=4.1.1 in /usr/local/lib/python3.11/dist-packages (from librosa) (4.13.2)\n",
            "Requirement already satisfied: lazy_loader>=0.1 in /usr/local/lib/python3.11/dist-packages (from librosa) (0.4)\n",
            "Requirement already satisfied: msgpack>=1.0 in /usr/local/lib/python3.11/dist-packages (from librosa) (1.1.0)\n",
            "Requirement already satisfied: packaging in /usr/local/lib/python3.11/dist-packages (from lazy_loader>=0.1->librosa) (24.2)\n",
            "Requirement already satisfied: llvmlite<0.44,>=0.43.0dev0 in /usr/local/lib/python3.11/dist-packages (from numba>=0.51.0->librosa) (0.43.0)\n",
            "Requirement already satisfied: platformdirs>=2.5.0 in /usr/local/lib/python3.11/dist-packages (from pooch>=1.1->librosa) (4.3.7)\n",
            "Requirement already satisfied: requests>=2.19.0 in /usr/local/lib/python3.11/dist-packages (from pooch>=1.1->librosa) (2.32.3)\n",
            "Requirement already satisfied: threadpoolctl>=3.1.0 in /usr/local/lib/python3.11/dist-packages (from scikit-learn>=1.1.0->librosa) (3.6.0)\n",
            "Requirement already satisfied: cffi>=1.0 in /usr/local/lib/python3.11/dist-packages (from soundfile>=0.12.1->librosa) (1.17.1)\n",
            "Requirement already satisfied: pycparser in /usr/local/lib/python3.11/dist-packages (from cffi>=1.0->soundfile>=0.12.1->librosa) (2.22)\n",
            "Requirement already satisfied: charset-normalizer<4,>=2 in /usr/local/lib/python3.11/dist-packages (from requests>=2.19.0->pooch>=1.1->librosa) (3.4.1)\n",
            "Requirement already satisfied: idna<4,>=2.5 in /usr/local/lib/python3.11/dist-packages (from requests>=2.19.0->pooch>=1.1->librosa) (3.10)\n",
            "Requirement already satisfied: urllib3<3,>=1.21.1 in /usr/local/lib/python3.11/dist-packages (from requests>=2.19.0->pooch>=1.1->librosa) (2.3.0)\n",
            "Requirement already satisfied: certifi>=2017.4.17 in /usr/local/lib/python3.11/dist-packages (from requests>=2.19.0->pooch>=1.1->librosa) (2025.1.31)\n",
            "Downloading resampy-0.4.3-py3-none-any.whl (3.1 MB)\n",
            "\u001b[2K   \u001b[90m━━━━━━━━━━━━━━━━━━━━━━━━━━━━━━━━━━━━━━━━\u001b[0m \u001b[32m3.1/3.1 MB\u001b[0m \u001b[31m25.5 MB/s\u001b[0m eta \u001b[36m0:00:00\u001b[0m\n",
            "\u001b[?25hInstalling collected packages: resampy\n",
            "Successfully installed resampy-0.4.3\n",
            "Requirement already satisfied: librosa in /usr/local/lib/python3.11/dist-packages (0.11.0)\n",
            "Requirement already satisfied: resampy in /usr/local/lib/python3.11/dist-packages (0.4.3)\n",
            "Requirement already satisfied: numpy in /usr/local/lib/python3.11/dist-packages (2.0.2)\n",
            "Requirement already satisfied: scikit-learn in /usr/local/lib/python3.11/dist-packages (1.6.1)\n",
            "Requirement already satisfied: audioread>=2.1.9 in /usr/local/lib/python3.11/dist-packages (from librosa) (3.0.1)\n",
            "Requirement already satisfied: numba>=0.51.0 in /usr/local/lib/python3.11/dist-packages (from librosa) (0.60.0)\n",
            "Requirement already satisfied: scipy>=1.6.0 in /usr/local/lib/python3.11/dist-packages (from librosa) (1.14.1)\n",
            "Requirement already satisfied: joblib>=1.0 in /usr/local/lib/python3.11/dist-packages (from librosa) (1.4.2)\n",
            "Requirement already satisfied: decorator>=4.3.0 in /usr/local/lib/python3.11/dist-packages (from librosa) (4.4.2)\n",
            "Requirement already satisfied: soundfile>=0.12.1 in /usr/local/lib/python3.11/dist-packages (from librosa) (0.13.1)\n",
            "Requirement already satisfied: pooch>=1.1 in /usr/local/lib/python3.11/dist-packages (from librosa) (1.8.2)\n",
            "Requirement already satisfied: soxr>=0.3.2 in /usr/local/lib/python3.11/dist-packages (from librosa) (0.5.0.post1)\n",
            "Requirement already satisfied: typing_extensions>=4.1.1 in /usr/local/lib/python3.11/dist-packages (from librosa) (4.13.2)\n",
            "Requirement already satisfied: lazy_loader>=0.1 in /usr/local/lib/python3.11/dist-packages (from librosa) (0.4)\n",
            "Requirement already satisfied: msgpack>=1.0 in /usr/local/lib/python3.11/dist-packages (from librosa) (1.1.0)\n",
            "Requirement already satisfied: threadpoolctl>=3.1.0 in /usr/local/lib/python3.11/dist-packages (from scikit-learn) (3.6.0)\n",
            "Requirement already satisfied: packaging in /usr/local/lib/python3.11/dist-packages (from lazy_loader>=0.1->librosa) (24.2)\n",
            "Requirement already satisfied: llvmlite<0.44,>=0.43.0dev0 in /usr/local/lib/python3.11/dist-packages (from numba>=0.51.0->librosa) (0.43.0)\n",
            "Requirement already satisfied: platformdirs>=2.5.0 in /usr/local/lib/python3.11/dist-packages (from pooch>=1.1->librosa) (4.3.7)\n",
            "Requirement already satisfied: requests>=2.19.0 in /usr/local/lib/python3.11/dist-packages (from pooch>=1.1->librosa) (2.32.3)\n",
            "Requirement already satisfied: cffi>=1.0 in /usr/local/lib/python3.11/dist-packages (from soundfile>=0.12.1->librosa) (1.17.1)\n",
            "Requirement already satisfied: pycparser in /usr/local/lib/python3.11/dist-packages (from cffi>=1.0->soundfile>=0.12.1->librosa) (2.22)\n",
            "Requirement already satisfied: charset-normalizer<4,>=2 in /usr/local/lib/python3.11/dist-packages (from requests>=2.19.0->pooch>=1.1->librosa) (3.4.1)\n",
            "Requirement already satisfied: idna<4,>=2.5 in /usr/local/lib/python3.11/dist-packages (from requests>=2.19.0->pooch>=1.1->librosa) (3.10)\n",
            "Requirement already satisfied: urllib3<3,>=1.21.1 in /usr/local/lib/python3.11/dist-packages (from requests>=2.19.0->pooch>=1.1->librosa) (2.3.0)\n",
            "Requirement already satisfied: certifi>=2017.4.17 in /usr/local/lib/python3.11/dist-packages (from requests>=2.19.0->pooch>=1.1->librosa) (2025.1.31)\n"
          ]
        }
      ]
    },
    {
      "cell_type": "code",
      "source": [
        "import librosa\n",
        "import numpy as np\n",
        "from sklearn.preprocessing import LabelEncoder\n",
        "from tensorflow.keras.models import load_model\n",
        "from google.colab import files\n",
        "import os"
      ],
      "metadata": {
        "id": "5ne3NF0-Sb-W"
      },
      "execution_count": null,
      "outputs": []
    },
    {
      "cell_type": "code",
      "source": [
        "def extract_features(file_path):\n",
        "    try:\n",
        "        audio, sample_rate = librosa.load(file_path, sr=22050, duration=4.0)\n",
        "        mfccs = librosa.feature.mfcc(y=audio, sr=sample_rate, n_mfcc=13)\n",
        "        if mfccs.shape[1] < 40:\n",
        "            pad_width = 40 - mfccs.shape[1]\n",
        "            mfccs = np.pad(mfccs, pad_width=((0, 0), (0, pad_width)), mode='constant')\n",
        "        else:\n",
        "            mfccs = mfccs[:, :40]\n",
        "        return mfccs.T\n",
        "    except Exception as e:\n",
        "        print(f\"Error extracting features from {file_path}: {e}\")\n",
        "        return None"
      ],
      "metadata": {
        "id": "0gOgOcJuSfMv"
      },
      "execution_count": null,
      "outputs": []
    },
    {
      "cell_type": "code",
      "source": [
        "# Step 5: Prediction function\n",
        "def predict_gender(audio_file_path):\n",
        "    mfccs = extract_features(audio_file_path)\n",
        "    if mfccs is not None:\n",
        "        mfccs = np.expand_dims(mfccs, axis=0)\n",
        "        prediction = model.predict(mfccs)\n",
        "        predicted_class = np.argmax(prediction)\n",
        "        predicted_label = le.inverse_transform([predicted_class])[0]\n",
        "        return predicted_label\n",
        "    else:\n",
        "        return \"Error extracting features.\""
      ],
      "metadata": {
        "id": "R5OsTHXwSimn"
      },
      "execution_count": null,
      "outputs": []
    },
    {
      "cell_type": "code",
      "source": [
        "import IPython.display as ipd\n",
        "uploaded = files.upload()\n",
        "\n",
        "for fn in uploaded.keys():\n",
        "    audio_file_path = fn\n",
        "    predicteds_sound = predict_gender(audio_file_path)\n",
        "    print(f\"Predicted Accident or crime {audio_file_path}: {predicteds_sound}\")\n",
        "\n",
        "    mfccs = extract_features(audio_file_path)\n",
        "\n",
        "    if mfccs is not None:\n",
        "        plt.figure(figsize=(10, 4))\n",
        "        librosa.display.specshow(mfccs.T, sr=SAMPLE_RATE, x_axis='time')\n",
        "        plt.colorbar(format='%+2.0f dB')\n",
        "        plt.title(f'MFCCs for {audio_file_path} (Predicted: {predicteds_sound})')\n",
        "        plt.tight_layout()\n",
        "        plt.show()\n",
        "\n",
        "ipd.Audio(audio_file_path)"
      ],
      "metadata": {
        "colab": {
          "base_uri": "https://localhost:8080/",
          "height": 412
        },
        "id": "DfrnXSOGSmH3",
        "outputId": "a7ab7885-7b43-46a6-f476-b9ab801a34e1"
      },
      "execution_count": null,
      "outputs": [
        {
          "output_type": "display_data",
          "data": {
            "text/plain": [
              "<IPython.core.display.HTML object>"
            ],
            "text/html": [
              "\n",
              "     <input type=\"file\" id=\"files-8b6ebfd7-cf3f-4724-9e2e-29e5f83cec6c\" name=\"files[]\" multiple disabled\n",
              "        style=\"border:none\" />\n",
              "     <output id=\"result-8b6ebfd7-cf3f-4724-9e2e-29e5f83cec6c\">\n",
              "      Upload widget is only available when the cell has been executed in the\n",
              "      current browser session. Please rerun this cell to enable.\n",
              "      </output>\n",
              "      <script>// Copyright 2017 Google LLC\n",
              "//\n",
              "// Licensed under the Apache License, Version 2.0 (the \"License\");\n",
              "// you may not use this file except in compliance with the License.\n",
              "// You may obtain a copy of the License at\n",
              "//\n",
              "//      http://www.apache.org/licenses/LICENSE-2.0\n",
              "//\n",
              "// Unless required by applicable law or agreed to in writing, software\n",
              "// distributed under the License is distributed on an \"AS IS\" BASIS,\n",
              "// WITHOUT WARRANTIES OR CONDITIONS OF ANY KIND, either express or implied.\n",
              "// See the License for the specific language governing permissions and\n",
              "// limitations under the License.\n",
              "\n",
              "/**\n",
              " * @fileoverview Helpers for google.colab Python module.\n",
              " */\n",
              "(function(scope) {\n",
              "function span(text, styleAttributes = {}) {\n",
              "  const element = document.createElement('span');\n",
              "  element.textContent = text;\n",
              "  for (const key of Object.keys(styleAttributes)) {\n",
              "    element.style[key] = styleAttributes[key];\n",
              "  }\n",
              "  return element;\n",
              "}\n",
              "\n",
              "// Max number of bytes which will be uploaded at a time.\n",
              "const MAX_PAYLOAD_SIZE = 100 * 1024;\n",
              "\n",
              "function _uploadFiles(inputId, outputId) {\n",
              "  const steps = uploadFilesStep(inputId, outputId);\n",
              "  const outputElement = document.getElementById(outputId);\n",
              "  // Cache steps on the outputElement to make it available for the next call\n",
              "  // to uploadFilesContinue from Python.\n",
              "  outputElement.steps = steps;\n",
              "\n",
              "  return _uploadFilesContinue(outputId);\n",
              "}\n",
              "\n",
              "// This is roughly an async generator (not supported in the browser yet),\n",
              "// where there are multiple asynchronous steps and the Python side is going\n",
              "// to poll for completion of each step.\n",
              "// This uses a Promise to block the python side on completion of each step,\n",
              "// then passes the result of the previous step as the input to the next step.\n",
              "function _uploadFilesContinue(outputId) {\n",
              "  const outputElement = document.getElementById(outputId);\n",
              "  const steps = outputElement.steps;\n",
              "\n",
              "  const next = steps.next(outputElement.lastPromiseValue);\n",
              "  return Promise.resolve(next.value.promise).then((value) => {\n",
              "    // Cache the last promise value to make it available to the next\n",
              "    // step of the generator.\n",
              "    outputElement.lastPromiseValue = value;\n",
              "    return next.value.response;\n",
              "  });\n",
              "}\n",
              "\n",
              "/**\n",
              " * Generator function which is called between each async step of the upload\n",
              " * process.\n",
              " * @param {string} inputId Element ID of the input file picker element.\n",
              " * @param {string} outputId Element ID of the output display.\n",
              " * @return {!Iterable<!Object>} Iterable of next steps.\n",
              " */\n",
              "function* uploadFilesStep(inputId, outputId) {\n",
              "  const inputElement = document.getElementById(inputId);\n",
              "  inputElement.disabled = false;\n",
              "\n",
              "  const outputElement = document.getElementById(outputId);\n",
              "  outputElement.innerHTML = '';\n",
              "\n",
              "  const pickedPromise = new Promise((resolve) => {\n",
              "    inputElement.addEventListener('change', (e) => {\n",
              "      resolve(e.target.files);\n",
              "    });\n",
              "  });\n",
              "\n",
              "  const cancel = document.createElement('button');\n",
              "  inputElement.parentElement.appendChild(cancel);\n",
              "  cancel.textContent = 'Cancel upload';\n",
              "  const cancelPromise = new Promise((resolve) => {\n",
              "    cancel.onclick = () => {\n",
              "      resolve(null);\n",
              "    };\n",
              "  });\n",
              "\n",
              "  // Wait for the user to pick the files.\n",
              "  const files = yield {\n",
              "    promise: Promise.race([pickedPromise, cancelPromise]),\n",
              "    response: {\n",
              "      action: 'starting',\n",
              "    }\n",
              "  };\n",
              "\n",
              "  cancel.remove();\n",
              "\n",
              "  // Disable the input element since further picks are not allowed.\n",
              "  inputElement.disabled = true;\n",
              "\n",
              "  if (!files) {\n",
              "    return {\n",
              "      response: {\n",
              "        action: 'complete',\n",
              "      }\n",
              "    };\n",
              "  }\n",
              "\n",
              "  for (const file of files) {\n",
              "    const li = document.createElement('li');\n",
              "    li.append(span(file.name, {fontWeight: 'bold'}));\n",
              "    li.append(span(\n",
              "        `(${file.type || 'n/a'}) - ${file.size} bytes, ` +\n",
              "        `last modified: ${\n",
              "            file.lastModifiedDate ? file.lastModifiedDate.toLocaleDateString() :\n",
              "                                    'n/a'} - `));\n",
              "    const percent = span('0% done');\n",
              "    li.appendChild(percent);\n",
              "\n",
              "    outputElement.appendChild(li);\n",
              "\n",
              "    const fileDataPromise = new Promise((resolve) => {\n",
              "      const reader = new FileReader();\n",
              "      reader.onload = (e) => {\n",
              "        resolve(e.target.result);\n",
              "      };\n",
              "      reader.readAsArrayBuffer(file);\n",
              "    });\n",
              "    // Wait for the data to be ready.\n",
              "    let fileData = yield {\n",
              "      promise: fileDataPromise,\n",
              "      response: {\n",
              "        action: 'continue',\n",
              "      }\n",
              "    };\n",
              "\n",
              "    // Use a chunked sending to avoid message size limits. See b/62115660.\n",
              "    let position = 0;\n",
              "    do {\n",
              "      const length = Math.min(fileData.byteLength - position, MAX_PAYLOAD_SIZE);\n",
              "      const chunk = new Uint8Array(fileData, position, length);\n",
              "      position += length;\n",
              "\n",
              "      const base64 = btoa(String.fromCharCode.apply(null, chunk));\n",
              "      yield {\n",
              "        response: {\n",
              "          action: 'append',\n",
              "          file: file.name,\n",
              "          data: base64,\n",
              "        },\n",
              "      };\n",
              "\n",
              "      let percentDone = fileData.byteLength === 0 ?\n",
              "          100 :\n",
              "          Math.round((position / fileData.byteLength) * 100);\n",
              "      percent.textContent = `${percentDone}% done`;\n",
              "\n",
              "    } while (position < fileData.byteLength);\n",
              "  }\n",
              "\n",
              "  // All done.\n",
              "  yield {\n",
              "    response: {\n",
              "      action: 'complete',\n",
              "    }\n",
              "  };\n",
              "}\n",
              "\n",
              "scope.google = scope.google || {};\n",
              "scope.google.colab = scope.google.colab || {};\n",
              "scope.google.colab._files = {\n",
              "  _uploadFiles,\n",
              "  _uploadFilesContinue,\n",
              "};\n",
              "})(self);\n",
              "</script> "
            ]
          },
          "metadata": {}
        },
        {
          "output_type": "stream",
          "name": "stdout",
          "text": [
            "Saving metadata.csv to metadata (1).csv\n",
            "Error extracting features from metadata (1).csv: \n",
            "Predicted Accident or crime metadata (1).csv: Error extracting features.\n"
          ]
        },
        {
          "output_type": "stream",
          "name": "stderr",
          "text": [
            "<ipython-input-26-5ff8c4848e6d>:3: UserWarning: PySoundFile failed. Trying audioread instead.\n",
            "  audio, sample_rate = librosa.load(file_path, sr=22050, duration=4.0)\n",
            "/usr/local/lib/python3.11/dist-packages/librosa/core/audio.py:184: FutureWarning: librosa.core.audio.__audioread_load\n",
            "\tDeprecated as of librosa version 0.10.0.\n",
            "\tIt will be removed in librosa version 1.0.\n",
            "  y, sr_native = __audioread_load(path, offset, duration, dtype)\n",
            "<ipython-input-26-5ff8c4848e6d>:3: UserWarning: PySoundFile failed. Trying audioread instead.\n",
            "  audio, sample_rate = librosa.load(file_path, sr=22050, duration=4.0)\n",
            "/usr/local/lib/python3.11/dist-packages/librosa/core/audio.py:184: FutureWarning: librosa.core.audio.__audioread_load\n",
            "\tDeprecated as of librosa version 0.10.0.\n",
            "\tIt will be removed in librosa version 1.0.\n",
            "  y, sr_native = __audioread_load(path, offset, duration, dtype)\n"
          ]
        },
        {
          "output_type": "stream",
          "name": "stdout",
          "text": [
            "Error extracting features from metadata (1).csv: \n"
          ]
        },
        {
          "output_type": "execute_result",
          "data": {
            "text/plain": [
              "<IPython.lib.display.Audio object>"
            ],
            "text/html": [
              "\n",
              "                <audio  controls=\"controls\" >\n",
              "                    <source src=\"data:text/csv;base64,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\" type=\"text/csv\" />\n",
              "                    Your browser does not support the audio element.\n",
              "                </audio>\n",
              "              "
            ]
          },
          "metadata": {},
          "execution_count": 28
        }
      ]
    }
  ]
}